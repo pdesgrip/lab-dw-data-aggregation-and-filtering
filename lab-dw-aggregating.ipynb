{
 "cells": [
  {
   "cell_type": "markdown",
   "id": "31969215-2a90-4d8b-ac36-646a7ae13744",
   "metadata": {
    "id": "31969215-2a90-4d8b-ac36-646a7ae13744"
   },
   "source": [
    "# Lab | Data Aggregation and Filtering"
   ]
  },
  {
   "cell_type": "markdown",
   "id": "a8f08a52-bec0-439b-99cc-11d3809d8b5d",
   "metadata": {
    "id": "a8f08a52-bec0-439b-99cc-11d3809d8b5d"
   },
   "source": [
    "In this challenge, we will continue to work with customer data from an insurance company. We will use the dataset called marketing_customer_analysis.csv, which can be found at the following link:\n",
    "\n",
    "https://raw.githubusercontent.com/data-bootcamp-v4/data/main/marketing_customer_analysis.csv\n",
    "\n",
    "This dataset contains information such as customer demographics, policy details, vehicle information, and the customer's response to the last marketing campaign. Our goal is to explore and analyze this data by first performing data cleaning, formatting, and structuring."
   ]
  },
  {
   "cell_type": "markdown",
   "id": "9c98ddc5-b041-4c94-ada1-4dfee5c98e50",
   "metadata": {
    "id": "9c98ddc5-b041-4c94-ada1-4dfee5c98e50"
   },
   "source": [
    "1. Create a new DataFrame that only includes customers who have a total_claim_amount greater than $1,000 and have a response of \"Yes\" to the last marketing campaign."
   ]
  },
  {
   "cell_type": "code",
   "execution_count": 8,
   "id": "bc57d181",
   "metadata": {},
   "outputs": [
    {
     "data": {
      "text/html": [
       "<div>\n",
       "<style scoped>\n",
       "    .dataframe tbody tr th:only-of-type {\n",
       "        vertical-align: middle;\n",
       "    }\n",
       "\n",
       "    .dataframe tbody tr th {\n",
       "        vertical-align: top;\n",
       "    }\n",
       "\n",
       "    .dataframe thead th {\n",
       "        text-align: right;\n",
       "    }\n",
       "</style>\n",
       "<table border=\"1\" class=\"dataframe\">\n",
       "  <thead>\n",
       "    <tr style=\"text-align: right;\">\n",
       "      <th></th>\n",
       "      <th>Unnamed: 0</th>\n",
       "      <th>Customer</th>\n",
       "      <th>State</th>\n",
       "      <th>Customer Lifetime Value</th>\n",
       "      <th>Response</th>\n",
       "      <th>Coverage</th>\n",
       "      <th>Education</th>\n",
       "      <th>Effective To Date</th>\n",
       "      <th>EmploymentStatus</th>\n",
       "      <th>Gender</th>\n",
       "      <th>...</th>\n",
       "      <th>Number of Open Complaints</th>\n",
       "      <th>Number of Policies</th>\n",
       "      <th>Policy Type</th>\n",
       "      <th>Policy</th>\n",
       "      <th>Renew Offer Type</th>\n",
       "      <th>Sales Channel</th>\n",
       "      <th>Total Claim Amount</th>\n",
       "      <th>Vehicle Class</th>\n",
       "      <th>Vehicle Size</th>\n",
       "      <th>Vehicle Type</th>\n",
       "    </tr>\n",
       "  </thead>\n",
       "  <tbody>\n",
       "    <tr>\n",
       "      <th>189</th>\n",
       "      <td>189</td>\n",
       "      <td>OK31456</td>\n",
       "      <td>California</td>\n",
       "      <td>11009.130490</td>\n",
       "      <td>Yes</td>\n",
       "      <td>Premium</td>\n",
       "      <td>Bachelor</td>\n",
       "      <td>1/24/11</td>\n",
       "      <td>Employed</td>\n",
       "      <td>F</td>\n",
       "      <td>...</td>\n",
       "      <td>0.0</td>\n",
       "      <td>1</td>\n",
       "      <td>Corporate Auto</td>\n",
       "      <td>Corporate L3</td>\n",
       "      <td>Offer2</td>\n",
       "      <td>Agent</td>\n",
       "      <td>1358.400000</td>\n",
       "      <td>Luxury Car</td>\n",
       "      <td>Medsize</td>\n",
       "      <td>NaN</td>\n",
       "    </tr>\n",
       "    <tr>\n",
       "      <th>236</th>\n",
       "      <td>236</td>\n",
       "      <td>YJ16163</td>\n",
       "      <td>Oregon</td>\n",
       "      <td>11009.130490</td>\n",
       "      <td>Yes</td>\n",
       "      <td>Premium</td>\n",
       "      <td>Bachelor</td>\n",
       "      <td>1/24/11</td>\n",
       "      <td>Employed</td>\n",
       "      <td>F</td>\n",
       "      <td>...</td>\n",
       "      <td>0.0</td>\n",
       "      <td>1</td>\n",
       "      <td>Special Auto</td>\n",
       "      <td>Special L3</td>\n",
       "      <td>Offer2</td>\n",
       "      <td>Agent</td>\n",
       "      <td>1358.400000</td>\n",
       "      <td>Luxury Car</td>\n",
       "      <td>Medsize</td>\n",
       "      <td>A</td>\n",
       "    </tr>\n",
       "    <tr>\n",
       "      <th>419</th>\n",
       "      <td>419</td>\n",
       "      <td>GW43195</td>\n",
       "      <td>Oregon</td>\n",
       "      <td>25807.063000</td>\n",
       "      <td>Yes</td>\n",
       "      <td>Extended</td>\n",
       "      <td>College</td>\n",
       "      <td>2/13/11</td>\n",
       "      <td>Employed</td>\n",
       "      <td>F</td>\n",
       "      <td>...</td>\n",
       "      <td>1.0</td>\n",
       "      <td>2</td>\n",
       "      <td>Personal Auto</td>\n",
       "      <td>Personal L2</td>\n",
       "      <td>Offer1</td>\n",
       "      <td>Branch</td>\n",
       "      <td>1027.200000</td>\n",
       "      <td>Luxury Car</td>\n",
       "      <td>Small</td>\n",
       "      <td>A</td>\n",
       "    </tr>\n",
       "    <tr>\n",
       "      <th>442</th>\n",
       "      <td>442</td>\n",
       "      <td>IP94270</td>\n",
       "      <td>Arizona</td>\n",
       "      <td>13736.132500</td>\n",
       "      <td>Yes</td>\n",
       "      <td>Premium</td>\n",
       "      <td>Master</td>\n",
       "      <td>2/13/11</td>\n",
       "      <td>Disabled</td>\n",
       "      <td>F</td>\n",
       "      <td>...</td>\n",
       "      <td>0.0</td>\n",
       "      <td>8</td>\n",
       "      <td>Personal Auto</td>\n",
       "      <td>Personal L2</td>\n",
       "      <td>Offer1</td>\n",
       "      <td>Web</td>\n",
       "      <td>1261.319869</td>\n",
       "      <td>SUV</td>\n",
       "      <td>Medsize</td>\n",
       "      <td>A</td>\n",
       "    </tr>\n",
       "    <tr>\n",
       "      <th>587</th>\n",
       "      <td>587</td>\n",
       "      <td>FJ28407</td>\n",
       "      <td>California</td>\n",
       "      <td>5619.689084</td>\n",
       "      <td>Yes</td>\n",
       "      <td>Premium</td>\n",
       "      <td>High School or Below</td>\n",
       "      <td>1/26/11</td>\n",
       "      <td>Unemployed</td>\n",
       "      <td>M</td>\n",
       "      <td>...</td>\n",
       "      <td>0.0</td>\n",
       "      <td>1</td>\n",
       "      <td>Personal Auto</td>\n",
       "      <td>Personal L1</td>\n",
       "      <td>Offer2</td>\n",
       "      <td>Web</td>\n",
       "      <td>1027.000029</td>\n",
       "      <td>SUV</td>\n",
       "      <td>Medsize</td>\n",
       "      <td>A</td>\n",
       "    </tr>\n",
       "    <tr>\n",
       "      <th>...</th>\n",
       "      <td>...</td>\n",
       "      <td>...</td>\n",
       "      <td>...</td>\n",
       "      <td>...</td>\n",
       "      <td>...</td>\n",
       "      <td>...</td>\n",
       "      <td>...</td>\n",
       "      <td>...</td>\n",
       "      <td>...</td>\n",
       "      <td>...</td>\n",
       "      <td>...</td>\n",
       "      <td>...</td>\n",
       "      <td>...</td>\n",
       "      <td>...</td>\n",
       "      <td>...</td>\n",
       "      <td>...</td>\n",
       "      <td>...</td>\n",
       "      <td>...</td>\n",
       "      <td>...</td>\n",
       "      <td>...</td>\n",
       "      <td>...</td>\n",
       "    </tr>\n",
       "    <tr>\n",
       "      <th>10351</th>\n",
       "      <td>10351</td>\n",
       "      <td>FN44127</td>\n",
       "      <td>Oregon</td>\n",
       "      <td>3508.569533</td>\n",
       "      <td>Yes</td>\n",
       "      <td>Extended</td>\n",
       "      <td>College</td>\n",
       "      <td>1/5/11</td>\n",
       "      <td>Medical Leave</td>\n",
       "      <td>M</td>\n",
       "      <td>...</td>\n",
       "      <td>1.0</td>\n",
       "      <td>1</td>\n",
       "      <td>Personal Auto</td>\n",
       "      <td>Personal L2</td>\n",
       "      <td>Offer2</td>\n",
       "      <td>Branch</td>\n",
       "      <td>1176.278800</td>\n",
       "      <td>Four-Door Car</td>\n",
       "      <td>Small</td>\n",
       "      <td>NaN</td>\n",
       "    </tr>\n",
       "    <tr>\n",
       "      <th>10373</th>\n",
       "      <td>10373</td>\n",
       "      <td>XZ64172</td>\n",
       "      <td>Oregon</td>\n",
       "      <td>10963.957230</td>\n",
       "      <td>Yes</td>\n",
       "      <td>Premium</td>\n",
       "      <td>High School or Below</td>\n",
       "      <td>2/8/11</td>\n",
       "      <td>Employed</td>\n",
       "      <td>M</td>\n",
       "      <td>...</td>\n",
       "      <td>0.0</td>\n",
       "      <td>1</td>\n",
       "      <td>Corporate Auto</td>\n",
       "      <td>Corporate L2</td>\n",
       "      <td>Offer1</td>\n",
       "      <td>Agent</td>\n",
       "      <td>1324.800000</td>\n",
       "      <td>Luxury SUV</td>\n",
       "      <td>Medsize</td>\n",
       "      <td>NaN</td>\n",
       "    </tr>\n",
       "    <tr>\n",
       "      <th>10487</th>\n",
       "      <td>10487</td>\n",
       "      <td>IX60941</td>\n",
       "      <td>Oregon</td>\n",
       "      <td>3508.569533</td>\n",
       "      <td>Yes</td>\n",
       "      <td>Extended</td>\n",
       "      <td>College</td>\n",
       "      <td>1/5/11</td>\n",
       "      <td>Medical Leave</td>\n",
       "      <td>M</td>\n",
       "      <td>...</td>\n",
       "      <td>1.0</td>\n",
       "      <td>1</td>\n",
       "      <td>Personal Auto</td>\n",
       "      <td>Personal L3</td>\n",
       "      <td>Offer2</td>\n",
       "      <td>Branch</td>\n",
       "      <td>1176.278800</td>\n",
       "      <td>Four-Door Car</td>\n",
       "      <td>Small</td>\n",
       "      <td>NaN</td>\n",
       "    </tr>\n",
       "    <tr>\n",
       "      <th>10565</th>\n",
       "      <td>10565</td>\n",
       "      <td>QO62792</td>\n",
       "      <td>Oregon</td>\n",
       "      <td>7840.165778</td>\n",
       "      <td>Yes</td>\n",
       "      <td>Extended</td>\n",
       "      <td>College</td>\n",
       "      <td>1/14/11</td>\n",
       "      <td>Employed</td>\n",
       "      <td>M</td>\n",
       "      <td>...</td>\n",
       "      <td>2.0</td>\n",
       "      <td>1</td>\n",
       "      <td>Personal Auto</td>\n",
       "      <td>Personal L3</td>\n",
       "      <td>Offer2</td>\n",
       "      <td>Agent</td>\n",
       "      <td>1008.000000</td>\n",
       "      <td>NaN</td>\n",
       "      <td>NaN</td>\n",
       "      <td>NaN</td>\n",
       "    </tr>\n",
       "    <tr>\n",
       "      <th>10708</th>\n",
       "      <td>10708</td>\n",
       "      <td>CK39096</td>\n",
       "      <td>Oregon</td>\n",
       "      <td>5619.689084</td>\n",
       "      <td>Yes</td>\n",
       "      <td>Premium</td>\n",
       "      <td>High School or Below</td>\n",
       "      <td>1/26/11</td>\n",
       "      <td>Unemployed</td>\n",
       "      <td>M</td>\n",
       "      <td>...</td>\n",
       "      <td>0.0</td>\n",
       "      <td>1</td>\n",
       "      <td>Personal Auto</td>\n",
       "      <td>Personal L3</td>\n",
       "      <td>Offer2</td>\n",
       "      <td>Web</td>\n",
       "      <td>1027.000029</td>\n",
       "      <td>SUV</td>\n",
       "      <td>Medsize</td>\n",
       "      <td>A</td>\n",
       "    </tr>\n",
       "  </tbody>\n",
       "</table>\n",
       "<p>67 rows × 26 columns</p>\n",
       "</div>"
      ],
      "text/plain": [
       "       Unnamed: 0 Customer       State  Customer Lifetime Value Response  \\\n",
       "189           189  OK31456  California             11009.130490      Yes   \n",
       "236           236  YJ16163      Oregon             11009.130490      Yes   \n",
       "419           419  GW43195      Oregon             25807.063000      Yes   \n",
       "442           442  IP94270     Arizona             13736.132500      Yes   \n",
       "587           587  FJ28407  California              5619.689084      Yes   \n",
       "...           ...      ...         ...                      ...      ...   \n",
       "10351       10351  FN44127      Oregon              3508.569533      Yes   \n",
       "10373       10373  XZ64172      Oregon             10963.957230      Yes   \n",
       "10487       10487  IX60941      Oregon              3508.569533      Yes   \n",
       "10565       10565  QO62792      Oregon              7840.165778      Yes   \n",
       "10708       10708  CK39096      Oregon              5619.689084      Yes   \n",
       "\n",
       "       Coverage             Education Effective To Date EmploymentStatus  \\\n",
       "189     Premium              Bachelor           1/24/11         Employed   \n",
       "236     Premium              Bachelor           1/24/11         Employed   \n",
       "419    Extended               College           2/13/11         Employed   \n",
       "442     Premium                Master           2/13/11         Disabled   \n",
       "587     Premium  High School or Below           1/26/11       Unemployed   \n",
       "...         ...                   ...               ...              ...   \n",
       "10351  Extended               College            1/5/11    Medical Leave   \n",
       "10373   Premium  High School or Below            2/8/11         Employed   \n",
       "10487  Extended               College            1/5/11    Medical Leave   \n",
       "10565  Extended               College           1/14/11         Employed   \n",
       "10708   Premium  High School or Below           1/26/11       Unemployed   \n",
       "\n",
       "      Gender  ...  Number of Open Complaints Number of Policies  \\\n",
       "189        F  ...                        0.0                  1   \n",
       "236        F  ...                        0.0                  1   \n",
       "419        F  ...                        1.0                  2   \n",
       "442        F  ...                        0.0                  8   \n",
       "587        M  ...                        0.0                  1   \n",
       "...      ...  ...                        ...                ...   \n",
       "10351      M  ...                        1.0                  1   \n",
       "10373      M  ...                        0.0                  1   \n",
       "10487      M  ...                        1.0                  1   \n",
       "10565      M  ...                        2.0                  1   \n",
       "10708      M  ...                        0.0                  1   \n",
       "\n",
       "          Policy Type        Policy  Renew Offer Type  Sales Channel  \\\n",
       "189    Corporate Auto  Corporate L3            Offer2          Agent   \n",
       "236      Special Auto    Special L3            Offer2          Agent   \n",
       "419     Personal Auto   Personal L2            Offer1         Branch   \n",
       "442     Personal Auto   Personal L2            Offer1            Web   \n",
       "587     Personal Auto   Personal L1            Offer2            Web   \n",
       "...               ...           ...               ...            ...   \n",
       "10351   Personal Auto   Personal L2            Offer2         Branch   \n",
       "10373  Corporate Auto  Corporate L2            Offer1          Agent   \n",
       "10487   Personal Auto   Personal L3            Offer2         Branch   \n",
       "10565   Personal Auto   Personal L3            Offer2          Agent   \n",
       "10708   Personal Auto   Personal L3            Offer2            Web   \n",
       "\n",
       "       Total Claim Amount  Vehicle Class Vehicle Size Vehicle Type  \n",
       "189           1358.400000     Luxury Car      Medsize          NaN  \n",
       "236           1358.400000     Luxury Car      Medsize            A  \n",
       "419           1027.200000     Luxury Car        Small            A  \n",
       "442           1261.319869            SUV      Medsize            A  \n",
       "587           1027.000029            SUV      Medsize            A  \n",
       "...                   ...            ...          ...          ...  \n",
       "10351         1176.278800  Four-Door Car        Small          NaN  \n",
       "10373         1324.800000     Luxury SUV      Medsize          NaN  \n",
       "10487         1176.278800  Four-Door Car        Small          NaN  \n",
       "10565         1008.000000            NaN          NaN          NaN  \n",
       "10708         1027.000029            SUV      Medsize            A  \n",
       "\n",
       "[67 rows x 26 columns]"
      ]
     },
     "metadata": {},
     "output_type": "display_data"
    }
   ],
   "source": [
    "import pandas as pd\n",
    "\n",
    "# Read the file\n",
    "data = pd.read_csv(\"marketing_customer_analysis.csv\")\n",
    "\n",
    "\n",
    "\n",
    "\n",
    "# Create new dataframe that includes customers with claims greater than 1000 and marketing reposne is YES.\n",
    "data2 = data[(data['Total Claim Amount'] > 1000) & (data['Response'] == 'Yes')]\n",
    "\n",
    "\n",
    "display(data2)"
   ]
  },
  {
   "cell_type": "markdown",
   "id": "b9be383e-5165-436e-80c8-57d4c757c8c3",
   "metadata": {
    "id": "b9be383e-5165-436e-80c8-57d4c757c8c3"
   },
   "source": [
    "2. Using the original Dataframe, analyze the average total_claim_amount by each policy type and gender for customers who have responded \"Yes\" to the last marketing campaign. Write your conclusions."
   ]
  },
  {
   "cell_type": "code",
   "execution_count": 11,
   "id": "8f02947d",
   "metadata": {
    "scrolled": true
   },
   "outputs": [
    {
     "name": "stderr",
     "output_type": "stream",
     "text": [
      "C:\\Users\\desgr\\AppData\\Local\\Temp\\ipykernel_14576\\2988945188.py:1: FutureWarning: The default value of numeric_only in DataFrameGroupBy.mean is deprecated. In a future version, numeric_only will default to False. Either specify numeric_only or select only columns which should be valid for the function.\n",
      "  examine_data = data[data['Response'] == 'Yes'].groupby(['Policy', 'Gender']).mean()['Total Claim Amount']\n"
     ]
    },
    {
     "data": {
      "text/plain": [
       "Policy        Gender\n",
       "Corporate L1  F         463.942272\n",
       "              M         426.482338\n",
       "Corporate L2  F         441.345018\n",
       "              M         427.988391\n",
       "Corporate L3  F         421.231615\n",
       "              M         391.613774\n",
       "Personal L1   F         485.125282\n",
       "              M         464.620881\n",
       "Personal L2   F         439.905973\n",
       "              M         459.430442\n",
       "Personal L3   F         447.076355\n",
       "              M         452.948421\n",
       "Special L1    F         471.344049\n",
       "              M         476.390378\n",
       "Special L2    F         396.625189\n",
       "              M         466.855864\n",
       "Special L3    F         495.566135\n",
       "              M         404.747560\n",
       "Name: Total Claim Amount, dtype: float64"
      ]
     },
     "metadata": {},
     "output_type": "display_data"
    }
   ],
   "source": [
    "# On the original dataframe calculate average total claim amount by gender and policy type for those who respsonded YES in the marketing campaign\n",
    "\n",
    "examine_data = data[data['Response'] == 'Yes'].groupby(['Policy', 'Gender']).mean()['Total Claim Amount']\n",
    "display(examine_data)\n"
   ]
  },
  {
   "cell_type": "markdown",
   "id": "cafddc64",
   "metadata": {},
   "source": [
    "Claims seem resasonably evenly distributed by genders and policy types. Special L2 Females are a little lower Special L3 females are higher. Corporate L3 males are the lowest for that gender and the highest is Personal L1 for males."
   ]
  },
  {
   "cell_type": "markdown",
   "id": "7050f4ac-53c5-4193-a3c0-8699b87196f0",
   "metadata": {
    "id": "7050f4ac-53c5-4193-a3c0-8699b87196f0"
   },
   "source": [
    "3. Analyze the total number of customers who have policies in each state, and then filter the results to only include states where there are more than 500 customers."
   ]
  },
  {
   "cell_type": "code",
   "execution_count": 14,
   "id": "f90f103e",
   "metadata": {},
   "outputs": [
    {
     "data": {
      "text/plain": [
       "California    3552\n",
       "Oregon        2909\n",
       "Arizona       1937\n",
       "Nevada         993\n",
       "Washington     888\n",
       "Name: State, dtype: int64"
      ]
     },
     "metadata": {},
     "output_type": "display_data"
    }
   ],
   "source": [
    "# Calculates total customers with policies in each state and returns the states with values great than 500 customers\n",
    "\n",
    "policy_by_state = data['State'].value_counts()\n",
    "filter_states = policy_by_state[policy_by_state > 500]\n",
    "display(filter_states)\n"
   ]
  },
  {
   "cell_type": "markdown",
   "id": "b60a4443-a1a7-4bbf-b78e-9ccdf9895e0d",
   "metadata": {
    "id": "b60a4443-a1a7-4bbf-b78e-9ccdf9895e0d"
   },
   "source": [
    "4. Find the maximum, minimum, and median customer lifetime value by education level and gender. Write your conclusions."
   ]
  },
  {
   "cell_type": "code",
   "execution_count": 16,
   "id": "319e06a6",
   "metadata": {
    "scrolled": true
   },
   "outputs": [
    {
     "name": "stderr",
     "output_type": "stream",
     "text": [
      "C:\\Users\\desgr\\AppData\\Local\\Temp\\ipykernel_14576\\930574394.py:1: FutureWarning: Dropping invalid columns in DataFrameGroupBy.max is deprecated. In a future version, a TypeError will be raised. Before calling .max, select only columns which should be valid for the function.\n",
      "  max_customer_value = data.groupby(['Education', 'Gender']).max()['Customer Lifetime Value']\n",
      "C:\\Users\\desgr\\AppData\\Local\\Temp\\ipykernel_14576\\930574394.py:2: FutureWarning: Dropping invalid columns in DataFrameGroupBy.min is deprecated. In a future version, a TypeError will be raised. Before calling .min, select only columns which should be valid for the function.\n",
      "  min_customer_value = data.groupby(['Education', 'Gender']).min()['Customer Lifetime Value']\n",
      "C:\\Users\\desgr\\AppData\\Local\\Temp\\ipykernel_14576\\930574394.py:3: FutureWarning: The default value of numeric_only in DataFrameGroupBy.median is deprecated. In a future version, numeric_only will default to False. Either specify numeric_only or select only columns which should be valid for the function.\n",
      "  median_customer_value = data.groupby(['Education', 'Gender']).median()['Customer Lifetime Value']\n"
     ]
    },
    {
     "data": {
      "text/plain": [
       "'Max Lifetime Value:\\n'"
      ]
     },
     "metadata": {},
     "output_type": "display_data"
    },
    {
     "data": {
      "text/plain": [
       "Education             Gender\n",
       "Bachelor              F         73225.95652\n",
       "                      M         67907.27050\n",
       "College               F         61850.18803\n",
       "                      M         61134.68307\n",
       "Doctor                F         44856.11397\n",
       "                      M         32677.34284\n",
       "High School or Below  F         55277.44589\n",
       "                      M         83325.38119\n",
       "Master                F         51016.06704\n",
       "                      M         50568.25912\n",
       "Name: Customer Lifetime Value, dtype: float64"
      ]
     },
     "metadata": {},
     "output_type": "display_data"
    },
    {
     "data": {
      "text/plain": [
       "'\\nMin Lifetime Value:\\n'"
      ]
     },
     "metadata": {},
     "output_type": "display_data"
    },
    {
     "data": {
      "text/plain": [
       "Education             Gender\n",
       "Bachelor              F         1904.000852\n",
       "                      M         1898.007675\n",
       "College               F         1898.683686\n",
       "                      M         1918.119700\n",
       "Doctor                F         2395.570000\n",
       "                      M         2267.604038\n",
       "High School or Below  F         2144.921535\n",
       "                      M         1940.981221\n",
       "Master                F         2417.777032\n",
       "                      M         2272.307310\n",
       "Name: Customer Lifetime Value, dtype: float64"
      ]
     },
     "metadata": {},
     "output_type": "display_data"
    },
    {
     "data": {
      "text/plain": [
       "'\\nMedian Lifetime Value:\\n'"
      ]
     },
     "metadata": {},
     "output_type": "display_data"
    },
    {
     "data": {
      "text/plain": [
       "Education             Gender\n",
       "Bachelor              F         5640.505303\n",
       "                      M         5548.031892\n",
       "College               F         5623.611187\n",
       "                      M         6005.847375\n",
       "Doctor                F         5332.462694\n",
       "                      M         5577.669457\n",
       "High School or Below  F         6039.553187\n",
       "                      M         6286.731006\n",
       "Master                F         5729.855012\n",
       "                      M         5579.099207\n",
       "Name: Customer Lifetime Value, dtype: float64"
      ]
     },
     "metadata": {},
     "output_type": "display_data"
    }
   ],
   "source": [
    "# Calculate the max, min and median for customer lifetime value by education level and gender\n",
    "\n",
    "max_customer_value = data.groupby(['Education', 'Gender']).max()['Customer Lifetime Value']\n",
    "min_customer_value = data.groupby(['Education', 'Gender']).min()['Customer Lifetime Value']\n",
    "median_customer_value = data.groupby(['Education', 'Gender']).median()['Customer Lifetime Value']\n",
    "\n",
    "display(\"Max Lifetime Value:\\n\", max_customer_value)\n",
    "display(\"\\nMin Lifetime Value:\\n\", min_customer_value)\n",
    "display(\"\\nMedian Lifetime Value:\\n\", median_customer_value)\n"
   ]
  },
  {
   "cell_type": "markdown",
   "id": "c7946eaa",
   "metadata": {},
   "source": [
    "INSIGHTS: The median high school or below value for the male cohort is higher than the other groups, this may be worth investigation to see if there are any other apsects that make this group higher."
   ]
  },
  {
   "cell_type": "markdown",
   "id": "b42999f9-311f-481e-ae63-40a5577072c5",
   "metadata": {
    "id": "b42999f9-311f-481e-ae63-40a5577072c5"
   },
   "source": [
    "## Bonus"
   ]
  },
  {
   "cell_type": "markdown",
   "id": "81ff02c5-6584-4f21-a358-b918697c6432",
   "metadata": {
    "id": "81ff02c5-6584-4f21-a358-b918697c6432"
   },
   "source": [
    "5. The marketing team wants to analyze the number of policies sold by state and month. Present the data in a table where the months are arranged as columns and the states are arranged as rows."
   ]
  },
  {
   "cell_type": "markdown",
   "id": "b6aec097-c633-4017-a125-e77a97259cda",
   "metadata": {
    "id": "b6aec097-c633-4017-a125-e77a97259cda"
   },
   "source": [
    "6.  Display a new DataFrame that contains the number of policies sold by month, by state, for the top 3 states with the highest number of policies sold.\n",
    "\n",
    "*Hint:*\n",
    "- *To accomplish this, you will first need to group the data by state and month, then count the number of policies sold for each group. Afterwards, you will need to sort the data by the count of policies sold in descending order.*\n",
    "- *Next, you will select the top 3 states with the highest number of policies sold.*\n",
    "- *Finally, you will create a new DataFrame that contains the number of policies sold by month for each of the top 3 states.*"
   ]
  },
  {
   "cell_type": "markdown",
   "id": "ba975b8a-a2cf-4fbf-9f59-ebc381767009",
   "metadata": {
    "id": "ba975b8a-a2cf-4fbf-9f59-ebc381767009"
   },
   "source": [
    "7. The marketing team wants to analyze the effect of different marketing channels on the customer response rate.\n",
    "\n",
    "Hint: You can use melt to unpivot the data and create a table that shows the customer response rate (those who responded \"Yes\") by marketing channel."
   ]
  },
  {
   "cell_type": "markdown",
   "id": "e4378d94-48fb-4850-a802-b1bc8f427b2d",
   "metadata": {
    "id": "e4378d94-48fb-4850-a802-b1bc8f427b2d"
   },
   "source": [
    "External Resources for Data Filtering: https://towardsdatascience.com/filtering-data-frames-in-pandas-b570b1f834b9"
   ]
  },
  {
   "cell_type": "code",
   "execution_count": null,
   "id": "449513f4-0459-46a0-a18d-9398d974c9ad",
   "metadata": {
    "id": "449513f4-0459-46a0-a18d-9398d974c9ad"
   },
   "outputs": [],
   "source": [
    "# your code goes here"
   ]
  }
 ],
 "metadata": {
  "colab": {
   "provenance": []
  },
  "kernelspec": {
   "display_name": "Python 3 (ipykernel)",
   "language": "python",
   "name": "python3"
  },
  "language_info": {
   "codemirror_mode": {
    "name": "ipython",
    "version": 3
   },
   "file_extension": ".py",
   "mimetype": "text/x-python",
   "name": "python",
   "nbconvert_exporter": "python",
   "pygments_lexer": "ipython3",
   "version": "3.11.4"
  }
 },
 "nbformat": 4,
 "nbformat_minor": 5
}
